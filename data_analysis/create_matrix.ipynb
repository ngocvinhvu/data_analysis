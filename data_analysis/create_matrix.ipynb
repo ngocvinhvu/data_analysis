{
 "cells": [
  {
   "cell_type": "code",
   "execution_count": null,
   "metadata": {},
   "outputs": [],
   "source": [
    "\"\"\"Dùng numpy để tạo các ma trận sau::\n",
    "\n",
    "\tarray([[ 0,  1,  2,  3,  4,  5],\n",
    "\t       [10, 11, 12, 13, 14, 15],\n",
    "\t       [20, 21, 22, 23, 24, 25],\n",
    "\t       [30, 31, 32, 33, 34, 35],\n",
    "\t       [40, 41, 42, 43, 44, 45],\n",
    "\t       [50, 51, 52, 53, 54, 55]])\n",
    "\n",
    "\n",
    "\tarray(  [[0., 0., 0., 0., 0.],\n",
    "\t\t\t [2., 0., 0., 0., 0.],\n",
    "\t\t\t [0., 3., 0., 0., 0.],\n",
    "\t\t\t [0., 0., 4., 0., 0.],\n",
    "\t\t\t [0., 0., 0., 5., 0.],\n",
    "\t\t\t [0., 0., 0., 0., 6.]])\n",
    "\"\"\""
   ]
  },
  {
   "cell_type": "code",
   "execution_count": 4,
   "metadata": {
    "scrolled": true
   },
   "outputs": [],
   "source": [
    "import numpy as np"
   ]
  },
  {
   "cell_type": "code",
   "execution_count": null,
   "metadata": {},
   "outputs": [],
   "source": []
  },
  {
   "cell_type": "code",
   "execution_count": 21,
   "metadata": {},
   "outputs": [],
   "source": [
    "A = np.array([[0, 1, 2, 3, 4, 5]])\n",
    "B = A + 10\n",
    "C = A + 20\n",
    "D = A + 30\n",
    "E = A + 40\n",
    "F = A + 50"
   ]
  },
  {
   "cell_type": "code",
   "execution_count": 22,
   "metadata": {},
   "outputs": [
    {
     "data": {
      "text/plain": [
       "array([[ 0,  1,  2,  3,  4,  5],\n",
       "       [10, 11, 12, 13, 14, 15],\n",
       "       [20, 21, 22, 23, 24, 25],\n",
       "       [30, 31, 32, 33, 34, 35],\n",
       "       [40, 41, 42, 43, 44, 45],\n",
       "       [50, 51, 52, 53, 54, 55]])"
      ]
     },
     "execution_count": 22,
     "metadata": {},
     "output_type": "execute_result"
    }
   ],
   "source": [
    "X = np.concatenate((A, B, C, D, E, F), axis=0); X "
   ]
  },
  {
   "cell_type": "code",
   "execution_count": 24,
   "metadata": {},
   "outputs": [
    {
     "data": {
      "text/plain": [
       "array([[0., 0., 0., 0., 0.],\n",
       "       [2., 0., 0., 0., 0.],\n",
       "       [0., 3., 0., 0., 0.],\n",
       "       [0., 0., 4., 0., 0.],\n",
       "       [0., 0., 0., 5., 0.],\n",
       "       [0., 0., 0., 0., 6.]])"
      ]
     },
     "execution_count": 24,
     "metadata": {},
     "output_type": "execute_result"
    }
   ],
   "source": [
    "G = np.array([[0., 0., 0., 0., 0.],\n",
    "              [2., 0., 0., 0., 0.],\n",
    "              [0., 3., 0., 0., 0.],\n",
    "              [0., 0., 4., 0., 0.],\n",
    "              [0., 0., 0., 5., 0.],\n",
    "              [0., 0., 0., 0., 6.]]); G"
   ]
  },
  {
   "cell_type": "code",
   "execution_count": null,
   "metadata": {},
   "outputs": [],
   "source": []
  }
 ],
 "metadata": {
  "kernelspec": {
   "display_name": "Python 3",
   "language": "python",
   "name": "python3"
  },
  "language_info": {
   "codemirror_mode": {
    "name": "ipython",
    "version": 3
   },
   "file_extension": ".py",
   "mimetype": "text/x-python",
   "name": "python",
   "nbconvert_exporter": "python",
   "pygments_lexer": "ipython3",
   "version": "3.8.5"
  }
 },
 "nbformat": 4,
 "nbformat_minor": 4
}
